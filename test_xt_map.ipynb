{
 "cells": [
  {
   "cell_type": "code",
   "execution_count": null,
   "metadata": {},
   "outputs": [],
   "source": [
    "\"\"\"\n",
    "NAME: make_slit\n",
    "\n",
    "PURPOSE: Calculates the pixel locations for slits of varying width between start [xi,yi] and stop [xf,yf] pixels.\n",
    "\n",
    "INPUT: \n",
    "[1] Path to a csv file with slit_name,xi,yi,xf,yf,width.\n",
    "[2] Path to save the slit arrays.\n",
    "\n",
    "OUTPUT: \n",
    "[1] Stores the slit array in a path_to_save/slit_name/slit.npy file.\n",
    "[2] Stores the slit info in path_to_save/slit_name/info.csv file.\n",
    "\n",
    "HISTORY: \n",
    "\n",
    "[1] Created by Rohan Kumar (IISER Kolkata) on 20-05-2023.\n",
    "\"\"\"\n",
    "\n",
    "\n",
    "import numpy as np\n",
    "import pandas as pd\n",
    "import os\n",
    "\n",
    "def make_slit(xi,yi,xf,yf,width):\n",
    "    slit_pix=[]\n",
    "    length=int(((xi-xf)**2+(yi-yf)**2)**0.5)\n",
    "    if width!=1:\n",
    "        slope_slit=(yf-yi)/(xf-xi)\n",
    "        slope_slit_perp=-1/slope_slit\n",
    "        theta=np.arctan(slope_slit_perp)\n",
    "        xi_neg=xi-width/2*np.cos(theta)\n",
    "        xi_pos=xi+width/2*np.cos(theta)\n",
    "        yi_neg=yi-width/2*np.sin(theta)\n",
    "        yi_pos=yi+width/2*np.sin(theta)\n",
    "        xi=xi_neg+(xi_pos-xi_neg)/(width-1)*np.arange(0,width,1,dtype=int)\n",
    "        yi=yi_neg+(yi_pos-yi_neg)/(width-1)*np.arange(0,width,1,dtype=int)\n",
    "        xi=np.asarray(xi,dtype=int)\n",
    "        yi=np.asarray(yi,dtype=int)\n",
    "        start_cords=np.column_stack((xi,yi))\n",
    "\n",
    "        xf_neg=xf-width/2*np.cos(theta)\n",
    "        xf_pos=xf+width/2*np.cos(theta)\n",
    "        yf_neg=yf-width/2*np.sin(theta)\n",
    "        yf_pos=yf+width/2*np.sin(theta)\n",
    "        xf=xf_neg+(xf_pos-xf_neg)/(width-1)*np.arange(0,width,1,dtype=int)\n",
    "        yf=yf_neg+(yf_pos-yf_neg)/(width-1)*np.arange(0,width,1,dtype=int)\n",
    "        xf=np.asarray(xf,dtype=int)\n",
    "        yf=np.asarray(yf,dtype=int)\n",
    "        end_cords=np.column_stack((xf,yf))\n",
    "        for i in range(len(start_cords)):\n",
    "            slit_coords_x=start_cords[i,0]+(end_cords[i,0]-start_cords[i,0])/(length-1)*np.arange(0,length,1,dtype=int)\n",
    "            slit_coords_y=start_cords[i,1]+(end_cords[i,1]-start_cords[i,1])/(length-1)*np.arange(0,length,1,dtype=int)\n",
    "            slit_coords_x=np.asarray(slit_coords_x,dtype=int)\n",
    "            slit_coords_y=np.asarray(slit_coords_y,dtype=int)\n",
    "            slit_coords=np.column_stack((slit_coords_x,slit_coords_y))\n",
    "            slit_pix.append(slit_coords)\n",
    "    else:\n",
    "        slit_coords_x=xi+(xf-xi)/(length-1)*np.arange(0,length,1,dtype=int)\n",
    "        slit_coords_y=yi+(yf-yi)/(length-1)*np.arange(0,length,1,dtype=int)\n",
    "        slit_coords_x=np.asarray(slit_coords_x,dtype=int)\n",
    "        slit_coords_y=np.asarray(slit_coords_y,dtype=int)\n",
    "        slit_coords=np.column_stack((slit_coords_x,slit_coords_y))\n",
    "        slit_pix.append(slit_coords)\n",
    "    return(slit_pix)\n",
    "\n",
    "df=pd.read_csv(input(\"Enter path of csv file with slit coordinates and names: \"),sep=',',header=0,names=[\"slit name\",\"xi\",\"yi\",\"xf\",\"yf\",\"width\"])\n",
    "path_to_save=input(\"Enter path to save the slits: \")+\"/\"\n",
    "\n",
    "data=df.to_numpy()\n",
    "\n",
    "for i in range(np.shape(data)[0]):\n",
    "    slits=make_slit(data[i,1],data[i,2],data[i,3],data[i,4],data[i,5])\n",
    "    directory=path_to_save+f\"{data[i,0]}\"+\"/\"\n",
    "    if not os.path.exists(directory):\n",
    "        os.makedirs(directory)\n",
    "    np.save(directory+\"slits.npy\",slits)\n",
    "    df1=pd.DataFrame({\"slit name\":[data[i,0]],\"xi\":[data[i,1]],\"yi\":[data[i,2]],\"xf\":[data[i,3]],\"yf\":[data[i,4]],\"width\":[data[i,5]],\"folder\":[directory]})\n",
    "    df1.to_csv(directory+\"info.csv\",index=False)"
   ]
  },
  {
   "cell_type": "code",
   "execution_count": 13,
   "metadata": {},
   "outputs": [
    {
     "name": "stderr",
     "output_type": "stream",
     "text": [
      "/tmp/ipykernel_6433/2487696124.py:27: DeprecationWarning: Please use `readsav` from the `scipy.io` namespace, the `scipy.io.idl` namespace is deprecated.\n",
      "  from scipy.io.idl import readsav\n"
     ]
    },
    {
     "name": "stdout",
     "output_type": "stream",
     "text": [
      "Using matplotlib backend: TkAgg\n"
     ]
    }
   ],
   "source": [
    "\n",
    "\"\"\"\n",
    "NAME: make_xtmap\n",
    "\n",
    "PURPOSE: Makes interpolated xt-map of the data according to the provided slits. \n",
    "\n",
    "INPUT: \n",
    "[1] Path to the folder containing both Data and Slits folder. [A specific format is being followed]\n",
    "\n",
    "OUTPUT: \n",
    "[1] Stores the generated xt_map.csv in the specific slit folder.\n",
    "[2] Adds the location of the dataset in info.csv\n",
    "\n",
    "IMPORTANT:\n",
    "This program requires a very specific folder structure to run.\n",
    "It takes in parent folder location and picks up data from parent_folder_location/Data/ and picks up slit information from parent_folder_location/Slits/.\n",
    "It runs for all the slits in the Slits folder. Note that the slits are named S1,S2 and so on in Slits/.\n",
    "\n",
    "HISTORY: \n",
    "\n",
    "[1] Created by Rohan Kumar (IISER Kolkata) on 20-05-2023.\n",
    "\"\"\"\n",
    "\n",
    "\n",
    "import numpy as np\n",
    "import glob\n",
    "import pandas as pd\n",
    "from scipy.io.idl import readsav\n",
    "from types import SimpleNamespace\n",
    "from scipy.interpolate import interp1d\n",
    "import matplotlib.pyplot as plt\n",
    "\n",
    "def apply_slits(slit,data):\n",
    "    y,x=np.split(slit,2,axis=1)\n",
    "    x1=x+1\n",
    "    y1=y+1\n",
    "    x_1=x-1\n",
    "    y_1=y-1\n",
    "    sl_1=np.column_stack((x1,y1))\n",
    "    sl_2=np.column_stack((x_1,y_1))\n",
    "    sl_3=np.column_stack((x_1,y1))\n",
    "    sl_4=np.column_stack((x1,y_1))\n",
    "    pix0=[]\n",
    "    pix1=[]\n",
    "    pix2=[]\n",
    "    pix3=[]\n",
    "    pix4=[]\n",
    "    pix0=data[x,y].T[0]\n",
    "    pix1=data[x1,y1].T[0]\n",
    "    pix2=data[x_1,y_1].T[0]\n",
    "    pix3=data[x_1,y1].T[0]\n",
    "    pix4=data[x1,y_1].T[0]\n",
    "    inter_slit_1=interp1d(pix_array,pix0,kind='cubic')\n",
    "    inter_slit_2=interp1d(pix_array,pix1,kind='cubic')\n",
    "    inter_slit_3=interp1d(pix_array,pix2,kind='cubic')\n",
    "    inter_slit_4=interp1d(pix_array,pix3,kind='cubic')\n",
    "    inter_slit_5=interp1d(pix_array,pix4,kind='cubic')\n",
    "    return((inter_slit_1(pix_array)+inter_slit_2(pix_array)+inter_slit_3(pix_array)+inter_slit_4(pix_array)+inter_slit_5(pix_array))/5)\n",
    "    return((pix0+pix1+pix2+pix3+pix4)/5)\n",
    "    return(pix0)\n",
    "\n",
    "def make_xt(data,slit):\n",
    "    yslit, xslit=np.split(slit,2,axis=1)\n",
    "    sz1 = np.shape(data)\n",
    "    #length=int(((xslit[0]-xslit[-1])**2+(yslit[0]-yslit[-1])**2)**0.5)\n",
    "    xslit = np.asarray(xslit,dtype = 'int')\n",
    "    yslit = np.asarray(yslit,dtype='int')\n",
    "    # xt = np.zeros((sz1[0],length),dtype=float)\n",
    "    xt=[]\n",
    "    for i in np.arange(sz1[0]):\n",
    "        #data_xt = np.transpose(data[i,:,:])\n",
    "        data_xt = data[i,:,:]\n",
    "        xtc = (data_xt[xslit,yslit]+data_xt[xslit+1,yslit+1]+data_xt[xslit+1,yslit-1]+data_xt[xslit-1,yslit+1]+data_xt[xslit-1,yslit-1])/5.0\n",
    "        # print(xtc[:,0])\n",
    "        # input(\"Enter\")\n",
    "        # xt[i,:] = xtc[:,0]\n",
    "        xt.append(xtc[:,0])\n",
    "    return(np.array(xt))\n",
    "\n",
    "folder_uni=\"/home/vampy/acads/projects/Probing_high_freq_waves_in_corona/Data/Test Data\"+\"/\"\n",
    "slit_folder_uni=folder_uni+\"Slits\"+\"/\"\n",
    "for slit_folder in sorted(glob.glob(slit_folder_uni+\"S*\")):\n",
    "    xt_map=[]\n",
    "    k=0\n",
    "    n=0\n",
    "    slits=np.load(slit_folder+\"/\"+\"slits.npy\")\n",
    "    df=pd.read_csv(slit_folder+\"/\"+\"info.csv\",sep=',',header=0,names=[\"slit name\",\"xi\",\"yi\",\"xf\",\"yf\",\"width\",\"folder\"])\n",
    "    info_data=df.to_numpy()\n",
    "    length=int(((info_data[0,1]-info_data[0,3])**2+(info_data[0,2]-info_data[0,4])**2)**0.5)\n",
    "    pix_array=np.arange(0,length)\n",
    "\n",
    "    folder_in=folder_uni+\"Data\"+\"/\"+\"filter_cube_2796.sav\"\n",
    "    df=readsav(folder_in)\n",
    "    var=SimpleNamespace(**df)\n",
    "    file=var.filter_cube\n",
    "    #print(np.shape(var))\n",
    "    # print(slits)\n",
    "\n",
    "    for i in range(np.shape(file)[0]):\n",
    "        arr=np.zeros((length,))\n",
    "        k+=1\n",
    "        #file=fits.open(file)\n",
    "        data=file[i]\n",
    "        for slit in slits:\n",
    "            arr+=apply_slits(slit,data,i) \n",
    "            arr=arr/len(slits)\n",
    "        xt_map.append(arr)\n",
    "\n",
    "    # xt_map=np.array(xt_map)\n",
    "    # for slit in slits:\n",
    "    #     xt_map=make_xt(file,slit)\n",
    "    %matplotlib\n",
    "    plt.imshow(np.transpose(xt_map))\n",
    "    # np.savetxt(folder_uni+\"xt_map.csv\",np.flip(xt_map,axis=1),delimiter=',')\n",
    "    # df[\"dataset\"]=folder_in\n",
    "    # df.to_csv(slit_folder+\"/\"+\"info.csv\",index=False)\n",
    "    plt.show()"
   ]
  },
  {
   "cell_type": "code",
   "execution_count": 5,
   "metadata": {},
   "outputs": [],
   "source": [
    "plt.show()"
   ]
  },
  {
   "cell_type": "code",
   "execution_count": null,
   "metadata": {},
   "outputs": [],
   "source": [
    "slit_location=\"/home/vampy/acads/projects/Probing_high_freq_waves_in_corona/Data/Test Data/point8.sav\""
   ]
  },
  {
   "cell_type": "code",
   "execution_count": null,
   "metadata": {},
   "outputs": [],
   "source": [
    "from scipy.io.idl import readsav\n",
    "from types import SimpleNamespace"
   ]
  },
  {
   "cell_type": "code",
   "execution_count": null,
   "metadata": {},
   "outputs": [],
   "source": [
    "df=readsav(slit_location)\n",
    "var=SimpleNamespace(**df)"
   ]
  },
  {
   "cell_type": "code",
   "execution_count": null,
   "metadata": {},
   "outputs": [],
   "source": [
    "var"
   ]
  },
  {
   "cell_type": "code",
   "execution_count": 28,
   "metadata": {},
   "outputs": [],
   "source": [
    "xt_map_file=\"/home/vampy/acads/projects/Probing_high_freq_waves_in_corona/Data/Test Data/xt_map.csv\"\n",
    "\n",
    "df=pd.read_csv(xt_map_file)\n",
    "xt_map=df.to_numpy()"
   ]
  },
  {
   "cell_type": "code",
   "execution_count": 29,
   "metadata": {},
   "outputs": [
    {
     "data": {
      "text/plain": [
       "<matplotlib.image.AxesImage at 0x7fdc9b6d1910>"
      ]
     },
     "execution_count": 29,
     "metadata": {},
     "output_type": "execute_result"
    },
    {
     "data": {
      "image/png": "[encoded data removed]",
      "text/plain": [
       "<Figure size 640x480 with 1 Axes>"
      ]
     },
     "metadata": {},
     "output_type": "display_data"
    }
   ],
   "source": [
    "plt.imshow(xt_map,origin='lower',vmin=-5,vmax=5)"
   ]
  },
  {
   "cell_type": "code",
   "execution_count": 17,
   "metadata": {},
   "outputs": [
    {
     "data": {
      "text/plain": [
       "-3.2933452"
      ]
     },
     "execution_count": 17,
     "metadata": {},
     "output_type": "execute_result"
    }
   ],
   "source": [
    "data[421,264]"
   ]
  },
  {
   "cell_type": "code",
   "execution_count": 18,
   "metadata": {},
   "outputs": [
    {
     "data": {
      "text/plain": [
       "array([[-2.90438581, -3.03321052, -3.20497656, ..., -3.50556755,\n",
       "        -3.67733359, -3.37674284],\n",
       "       [-3.33380127, -3.37674284, -3.20497656, ..., -3.8061583 ,\n",
       "        -3.2908597 , -3.63439202],\n",
       "       [-3.59145045, -3.11909366, -3.46262598, ..., -3.11909366,\n",
       "        -3.76321673, -3.63439202],\n",
       "       ...,\n",
       "       [-3.31231761, -3.15902233, -3.46561265, ..., -3.00572729,\n",
       "        -3.31231761, -2.90353036],\n",
       "       [-3.61890793, -3.36341596, -3.10792398, ..., -3.46561265,\n",
       "        -2.95462871, -3.10792398],\n",
       "       [-3.29334521, -3.13852787, -3.49976826, ..., -3.36341596,\n",
       "        -3.19013357, -3.03531647]])"
      ]
     },
     "execution_count": 18,
     "metadata": {},
     "output_type": "execute_result"
    }
   ],
   "source": [
    "xt_map"
   ]
  },
  {
   "cell_type": "code",
   "execution_count": null,
   "metadata": {},
   "outputs": [],
   "source": []
  }
 ],
 "metadata": {
  "kernelspec": {
   "display_name": "Python (solar)",
   "language": "python",
   "name": "solar"
  },
  "language_info": {
   "codemirror_mode": {
    "name": "ipython",
    "version": 3
   },
   "file_extension": ".py",
   "mimetype": "text/x-python",
   "name": "python",
   "nbconvert_exporter": "python",
   "pygments_lexer": "ipython3",
   "version": "3.11.0"
  },
  "orig_nbformat": 4
 },
 "nbformat": 4,
 "nbformat_minor": 2
}
